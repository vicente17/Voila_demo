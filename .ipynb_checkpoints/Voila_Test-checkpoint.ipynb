{
 "cells": [
  {
   "cell_type": "code",
   "execution_count": 26,
   "id": "b06b6e9c",
   "metadata": {},
   "outputs": [],
   "source": [
    "import pandas as pd\n",
    "import pkg_resources\n",
    "import geopandas as gpd\n",
    "import fiona\n",
    "from shapely.geometry import Point\n",
    "import matplotlib.pyplot as plt\n",
    "import psycopg2\n",
    "import mapclassify\n",
    "from matplotlib.figure import Figure\n",
    "import matplotlib\n",
    "import io\n",
    "import tempfile\n",
    "from office365.runtime.auth.authentication_context import AuthenticationContext\n",
    "from office365.sharepoint.client_context import ClientContext\n",
    "from office365.sharepoint.files.file import File\n",
    "import ipywidgets as widgets\n",
    "import pandas as pd\n",
    "from IPython.display import display,Image"
   ]
  },
  {
   "cell_type": "code",
   "execution_count": 27,
   "id": "13a30521",
   "metadata": {},
   "outputs": [],
   "source": [
    "archivo_rutas=\"Rutas.xlsx\"\n",
    "Fecha_inicio = \"'2022-05-02 00:00:00'\"\n",
    "Fecha_fin = \"'2022-05-02 23:59:59'\""
   ]
  },
  {
   "cell_type": "code",
   "execution_count": 28,
   "id": "ff729ea4",
   "metadata": {},
   "outputs": [],
   "source": [
    "def extract_consolidado():\n",
    "    sharepoint_base_url = 'https://99minutos-my.sharepoint.com/personal/juan_casanova_99minutos_com/Documents/Gerencia%20de%20Operaciones/Proyectos/Seguimiento%20Proyectos/Self%20Service/Prueba.xlsm?web=1'\n",
    "    sharepoint_user = 'vicente.merani@99minutos.com'\n",
    "    sharepoint_password = 'Ligamaster.1'\n",
    "    auth = AuthenticationContext(sharepoint_base_url)\n",
    "    auth.acquire_token_for_user(sharepoint_user, sharepoint_password)\n",
    "    ctx = ClientContext(sharepoint_base_url, auth)\n",
    "    web = ctx.web\n",
    "    ctx.load(web)\n",
    "    ctx.execute_query()\n",
    "    response = File.open_binary(ctx, sharepoint_base_url)\n",
    "\n",
    "    #save data to BytesIO stream\n",
    "    bytes_file_obj = io.BytesIO()\n",
    "    bytes_file_obj.write(response.content)\n",
    "    bytes_file_obj.seek(0) #set file object to start\n",
    "\n",
    "    #read excel file and each sheet into pandas dataframe \n",
    "    df_consolidado = pd.read_excel(bytes_file_obj, sheet_name =\"Carga\" )\n",
    "    df_consolidado = df_consolidado[['Número 99/# Cliente','Nro. Carro']]\n",
    "    df_consolidado= df_consolidado.set_axis(['Folio','Nro. Carro'], axis=1)\n",
    "    return df_consolidado"
   ]
  },
  {
   "cell_type": "code",
   "execution_count": 41,
   "id": "290ce796",
   "metadata": {},
   "outputs": [],
   "source": [
    "def mapa():\n",
    "    gpd.io.file.fiona.drvsupport.supported_drivers['KML'] = 'rw'\n",
    "    renca = gpd.read_file('Renca.kml', driver='KML')\n",
    "    rodo = gpd.read_file('Rodo.kml', driver='KML')\n",
    "    total = final = pd.concat([renca, rodo])\n",
    "    return renca,total\n",
    "\n",
    "def uniones(archivo,df):\n",
    "    df['Numero'] = df.apply(lambda x: int(x['Name'].split(\".\")[0]),axis = 1)\n",
    "    df_rutas = pd.read_excel(archivo,sheet_name=\"Asignacion\")\n",
    "    df_final = df.merge(df_rutas,left_on = 'Numero',right_on='Polígono')\n",
    "    return df_final.dissolve(by='Polígono')\n",
    "\n",
    "def query(Fecha_inicio,Fecha_Fin):\n",
    "    PSQL_HOST = \"static.99minutos.app\"\n",
    "    PSQL_PORT = \"5432\"\n",
    "    PSQL_USER = \"opschile\"\n",
    "    PSQL_PASS = \"NDAhhH4sP67754\"\n",
    "    PSQL_DB   = \"pr99minutoscom\"\n",
    "    connstr = \"host=%s port=%s user=%s password=%s dbname=%s\" % (PSQL_HOST, PSQL_PORT, PSQL_USER, PSQL_PASS, PSQL_DB)\n",
    "    conn = psycopg2.connect(connstr)\n",
    "    cur = conn.cursor()\n",
    "    sqlquery = \"SELECT lo.id, o.counter, o.receivedorderid, ctd.lat, ctd.long, ctd.zonification FROM logsorders lo LEFT JOIN orders o ON o.id = lo.orderid LEFT JOIN useraccounts ua ON ua.id = o.userid LEFT JOIN catdestinationadress ctd ON ctd.id = o.destionationadressid WHERE lo.created BETWEEN\"+Fecha_inicio+\"AND\"+Fecha_Fin+\"AND ua.country ='CHL'AND lo.statusid IN ('4','21','22','4.2') AND lo.commentclient like'%inducción%'AND (lo.commentclient like'%Sorting%'OR lo.commentclient like'%sorting%') AND ua.company NOT IN ('99minCHLCapacitacion');\"\n",
    "    df_ptos =  pd.read_sql_query(sqlquery, conn)\n",
    "    df_ptos[\"counter\"] = df_ptos[\"counter\"].astype(str)\n",
    "    df_ptos['geometry'] = df_ptos.apply(lambda x: Point((float(x.long), float(x.lat))), axis=1)\n",
    "    df_ptos = gpd.GeoDataFrame(df_ptos, geometry='geometry')\n",
    "    df_ptos.set_crs(epsg=4326, inplace=True)\n",
    "    return df_ptos\n",
    "\n",
    "def carga(df_consolidado,archivo):\n",
    "    df_rutas = pd.read_excel(archivo,sheet_name=\"Asignacion\")\n",
    "    df_consolidado[\"Folio\"] = df_consolidado[\"Folio\"].astype(str)\n",
    "    df_rutas[\"Polígono\"] = df_rutas[\"Polígono\"].astype(str)\n",
    "    df_carga = df_rutas.merge(df_consolidado,left_on = 'Polígono',right_on='Nro. Carro')\n",
    "    return df_carga\n",
    "\n",
    "def consolidado(df_ptos,df_carga):\n",
    "    df1 = pd.merge(df_ptos,df_carga,right_on=\"Folio\",left_on=\"counter\")\n",
    "    df2 = pd.merge(df_ptos,df_carga,right_on=\"Folio\",left_on=\"receivedorderid\")\n",
    "    final = pd.concat([df1, df2])\n",
    "    return final\n",
    "\n",
    "def interseccion(df_consolidado, rutas,df_total):\n",
    "    intersect = gpd.overlay(df_consolidado,rutas, how='intersection')\n",
    "    out_poligon = gpd.overlay(df_consolidado,df_total,how = 'difference')\n",
    "    intersect['Dif'] = intersect.apply(lambda x: 1 if int(x['Vehículo_1']) == int(x['Vehículo_2']) else 0 ,axis = 1)\n",
    "    diferencias = intersect[intersect['Dif'] == 0]\n",
    "    diferencias = diferencias [['Folio','Vehículo_2','Vehículo_1','zonification','Name','Nro. Carro']]\n",
    "    diferencias.columns = ['Folio', 'Ruta_Correcta', 'Ruta_Actual','Zona Actual','Zona Correcta','Carro Actual']\n",
    "    return intersect,diferencias,out_poligon\n",
    "\n",
    "def mapear_diferencias(rutas,ruta_pintada,df_consolidado,diferencias):  \n",
    "    rutas['aux'] = rutas.apply(lambda x : 1 if int(x['Vehículo']) == ruta_pintada else 0,axis=1)\n",
    "    color_dict = {0:'orange', 1:'pink'}\n",
    "    rutas['color'] = rutas['aux'].map(color_dict)\n",
    "    pedidos = diferencias[diferencias[\"Ruta_Actual\"] == ruta_pintada]\n",
    "    pedidos = pedidos['Folio'].tolist()\n",
    "    buscados = df_consolidado[df_consolidado[\"Folio\"].isin(pedidos)]\n",
    "    ax = rutas.plot(figsize = (40,40),edgecolor = 'black', color=rutas['color'], alpha = 0.6)\n",
    "    ax.set_title(\"Ruta\"+str(ruta_pintada), pad = 20, fontdict={'fontsize':20, 'color': '#4873ab'})\n",
    "    buscados.plot(ax = ax, figsize = (40,40), marker='o', column='Folio', categorical=True,\n",
    "             markersize=100, legend=True, cmap='tab10', legend_kwds={'fontsize':20})\n",
    "    plt.savefig('Rutas/'+str(ruta_pintada)+'.jpg')\n",
    "    plt.close()"
   ]
  },
  {
   "cell_type": "code",
   "execution_count": 42,
   "id": "ef2a4bce",
   "metadata": {},
   "outputs": [],
   "source": [
    "def execute(archivo_rutas,Fecha_inicio,Fecha_Fin):\n",
    "    df,df_total = mapa()\n",
    "    df_consolidado = extract_consolidado()\n",
    "    rutas = uniones(archivo_rutas,df_total)\n",
    "    df_ptos = query(Fecha_inicio,Fecha_fin)\n",
    "    df_carga = carga(df_consolidado,archivo_rutas)\n",
    "    df_f = consolidado(df_ptos,df_carga)\n",
    "    intersect,diferencias,out_poligon = interseccion(df_f,rutas,df_total)\n",
    "    revisados = []\n",
    "    for i in diferencias.index:\n",
    "        if diferencias[\"Ruta_Actual\"][i] not in revisados:\n",
    "            mapear_diferencias(rutas,diferencias[\"Ruta_Actual\"][i],df_f,diferencias)\n",
    "            revisados.append(diferencias[\"Ruta_Actual\"][i])\n",
    "        else:\n",
    "            pass\n",
    "    return diferencias"
   ]
  },
  {
   "cell_type": "code",
   "execution_count": 49,
   "id": "7a409763",
   "metadata": {},
   "outputs": [
    {
     "data": {
      "application/vnd.jupyter.widget-view+json": {
       "model_id": "dde4b1ebcdee4d31ae16a837c4fbea35",
       "version_major": 2,
       "version_minor": 0
      },
      "text/plain": [
       "Button(description='Click Me!', style=ButtonStyle())"
      ]
     },
     "metadata": {},
     "output_type": "display_data"
    },
    {
     "data": {
      "application/vnd.jupyter.widget-view+json": {
       "model_id": "00be216f394c47d7a89e964eba3935d1",
       "version_major": 2,
       "version_minor": 0
      },
      "text/plain": [
       "Output()"
      ]
     },
     "metadata": {},
     "output_type": "display_data"
    }
   ],
   "source": [
    "button = widgets.Button(description=\"Siguiente Ruta\")\n",
    "output = widgets.Output()\n",
    "display(button, output)\n",
    "\n",
    "global contador\n",
    "dif = execute(archivo_rutas,Fecha_inicio,Fecha_fin)\n",
    "order = dif['Ruta_Actual'].unique().tolist()\n",
    "contador = 0\n",
    "\n",
    "def actualizar(b):\n",
    "    dif = execute(archivo_rutas,Fecha_inicio,Fecha_fin)\n",
    "    \n",
    "def on_button_clicked(b):\n",
    "    output.clear_output()\n",
    "    global contador\n",
    "    with output:\n",
    "        img = Image(str(order[contador])+\".jpg\")\n",
    "        display(img)\n",
    "        data = dif[dif['Ruta_Actual']==order[contador]]\n",
    "        display(data)\n",
    "        contador += 1\n",
    "\n",
    "button.on_click(on_button_clicked)"
   ]
  },
  {
   "cell_type": "code",
   "execution_count": null,
   "id": "5db66641",
   "metadata": {},
   "outputs": [],
   "source": []
  }
 ],
 "metadata": {
  "kernelspec": {
   "display_name": "Python 3 (ipykernel)",
   "language": "python",
   "name": "python3"
  },
  "language_info": {
   "codemirror_mode": {
    "name": "ipython",
    "version": 3
   },
   "file_extension": ".py",
   "mimetype": "text/x-python",
   "name": "python",
   "nbconvert_exporter": "python",
   "pygments_lexer": "ipython3",
   "version": "3.7.8"
  }
 },
 "nbformat": 4,
 "nbformat_minor": 5
}
